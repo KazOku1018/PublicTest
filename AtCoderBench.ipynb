{
  "nbformat": 4,
  "nbformat_minor": 0,
  "metadata": {
    "colab": {
      "provenance": [],
      "mount_file_id": "1-M7uTemF44tgs-k5DfPwhYOBgoNb6lfc",
      "authorship_tag": "ABX9TyM0rF/sXSNm+SupjSSCRlX2",
      "include_colab_link": true
    },
    "kernelspec": {
      "name": "python3",
      "display_name": "Python 3"
    },
    "language_info": {
      "name": "python"
    }
  },
  "cells": [
    {
      "cell_type": "markdown",
      "metadata": {
        "id": "view-in-github",
        "colab_type": "text"
      },
      "source": [
        "<a href=\"https://colab.research.google.com/github/KazOku1018/PublicTest/blob/main/AtCoderBench.ipynb\" target=\"_parent\"><img src=\"https://colab.research.google.com/assets/colab-badge.svg\" alt=\"Open In Colab\"/></a>"
      ]
    },
    {
      "cell_type": "markdown",
      "source": [],
      "metadata": {
        "id": "l9c8lWPr4cp9"
      }
    },
    {
      "cell_type": "markdown",
      "source": [
        "# Bench for AtCoder\n",
        "20240310 Kazumasa Okumura"
      ],
      "metadata": {
        "id": "FmzlPWXG4ecl"
      }
    },
    {
      "cell_type": "markdown",
      "source": [
        "/content/drive/MyDrive/Colab Notebooks/AtCoder/input.txt"
      ],
      "metadata": {
        "id": "7v4ymuPP8ttW"
      }
    },
    {
      "cell_type": "code",
      "source": [
        "import os\n",
        "os.chdir('/content/drive/MyDrive/PyProj/AtCoder')\n",
        "!pwd\n",
        "!ls"
      ],
      "metadata": {
        "colab": {
          "base_uri": "https://localhost:8080/"
        },
        "id": "oeWFTjigwY82",
        "outputId": "eab872fd-c601-4e78-c8ab-1521c24ae972"
      },
      "execution_count": 9,
      "outputs": [
        {
          "output_type": "stream",
          "name": "stdout",
          "text": [
            "/content/drive/MyDrive/PyProj/AtCoder\n",
            "AtCoderBench.ipynb  input.txt\n"
          ]
        }
      ]
    },
    {
      "cell_type": "code",
      "execution_count": 10,
      "metadata": {
        "id": "rbUsZo4U4TiL"
      },
      "outputs": [],
      "source": [
        "#atCoder bench\n",
        "#2023/12/23\n",
        "with open('input.txt') as file:\n",
        "    input_lines = file.read().split('\\n')\n",
        "def input(): return input_lines.pop(0)\n",
        "#"
      ]
    }
  ]
}