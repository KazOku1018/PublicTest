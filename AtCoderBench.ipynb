{
  "nbformat": 4,
  "nbformat_minor": 0,
  "metadata": {
    "colab": {
      "provenance": [],
      "mount_file_id": "1-M7uTemF44tgs-k5DfPwhYOBgoNb6lfc",
      "authorship_tag": "ABX9TyNOp217NBFGlY3p/GVujjqa",
      "include_colab_link": true
    },
    "kernelspec": {
      "name": "python3",
      "display_name": "Python 3"
    },
    "language_info": {
      "name": "python"
    }
  },
  "cells": [
    {
      "cell_type": "markdown",
      "metadata": {
        "id": "view-in-github",
        "colab_type": "text"
      },
      "source": [
        "<a href=\"https://colab.research.google.com/github/KazOku1018/PublicTest/blob/main/AtCoderBench.ipynb\" target=\"_parent\"><img src=\"https://colab.research.google.com/assets/colab-badge.svg\" alt=\"Open In Colab\"/></a>"
      ]
    },
    {
      "cell_type": "markdown",
      "source": [],
      "metadata": {
        "id": "l9c8lWPr4cp9"
      }
    },
    {
      "cell_type": "markdown",
      "source": [
        "# Bench for AtCoder\n",
        "20240310 Kazumasa Okumura\n",
        "\n",
        "\n",
        "1.   Google Drive に接続\n",
        "2.   マウント\n",
        "\n"
      ],
      "metadata": {
        "id": "FmzlPWXG4ecl"
      }
    },
    {
      "cell_type": "code",
      "source": [
        "import os\n",
        "os.chdir('/content/drive/MyDrive/PyProj/AtCoder')\n",
        "!pwd\n",
        "!ls"
      ],
      "metadata": {
        "colab": {
          "base_uri": "https://localhost:8080/"
        },
        "id": "oeWFTjigwY82",
        "outputId": "5e5a4c02-8520-4875-ae10-7427a61d6fda"
      },
      "execution_count": 5,
      "outputs": [
        {
          "output_type": "stream",
          "name": "stdout",
          "text": [
            "/content/drive/MyDrive/PyProj/AtCoder\n",
            "AtCoderBench.ipynb  input.txt\n"
          ]
        }
      ]
    },
    {
      "cell_type": "code",
      "execution_count": null,
      "metadata": {
        "id": "rbUsZo4U4TiL"
      },
      "outputs": [],
      "source": [
        "#atCoder bench\n",
        "#2023/12/23\n",
        "with open('input.txt') as file:\n",
        "    input_lines = file.read().split('\\n')\n",
        "def input(): return input_lines.pop(0)\n",
        "#"
      ]
    }
  ]
}