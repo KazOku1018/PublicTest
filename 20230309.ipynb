{
  "nbformat": 4,
  "nbformat_minor": 0,
  "metadata": {
    "colab": {
      "provenance": [],
      "mount_file_id": "1Uj8EAvO3IWTJgbhSgz9KtVwEBbWY85pZ",
      "authorship_tag": "ABX9TyNnrgKL29esQuYeGidWbfYC",
      "include_colab_link": true
    },
    "kernelspec": {
      "name": "python3",
      "display_name": "Python 3"
    },
    "language_info": {
      "name": "python"
    }
  },
  "cells": [
    {
      "cell_type": "markdown",
      "metadata": {
        "id": "view-in-github",
        "colab_type": "text"
      },
      "source": [
        "<a href=\"https://colab.research.google.com/github/KazOku1018/PublicTest/blob/main/20230309.ipynb\" target=\"_parent\"><img src=\"https://colab.research.google.com/assets/colab-badge.svg\" alt=\"Open In Colab\"/></a>"
      ]
    },
    {
      "cell_type": "code",
      "execution_count": 1,
      "metadata": {
        "colab": {
          "base_uri": "https://localhost:8080/"
        },
        "id": "DFhoJg0RCO9b",
        "outputId": "4d140bc1-ff48-4b59-ce95-12cb2a609e6d"
      },
      "outputs": [
        {
          "output_type": "stream",
          "name": "stdout",
          "text": [
            "oku\n"
          ]
        }
      ],
      "source": [
        "print(\"oku\")"
      ]
    }
  ]
}