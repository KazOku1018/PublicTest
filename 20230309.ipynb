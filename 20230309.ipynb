{
  "nbformat": 4,
  "nbformat_minor": 0,
  "metadata": {
    "colab": {
      "provenance": [],
      "mount_file_id": "1Uj8EAvO3IWTJgbhSgz9KtVwEBbWY85pZ",
      "authorship_tag": "ABX9TyPqbk7FwYCoS5O97U4BnRch",
      "include_colab_link": true
    },
    "kernelspec": {
      "name": "python3",
      "display_name": "Python 3"
    },
    "language_info": {
      "name": "python"
    }
  },
  "cells": [
    {
      "cell_type": "markdown",
      "metadata": {
        "id": "view-in-github",
        "colab_type": "text"
      },
      "source": [
        "<a href=\"https://colab.research.google.com/github/KazOku1018/PublicTest/blob/main/20230309.ipynb\" target=\"_parent\"><img src=\"https://colab.research.google.com/assets/colab-badge.svg\" alt=\"Open In Colab\"/></a>"
      ]
    },
    {
      "cell_type": "code",
      "execution_count": 1,
      "metadata": {
        "colab": {
          "base_uri": "https://localhost:8080/"
        },
        "id": "DFhoJg0RCO9b",
        "outputId": "a404ad2b-c6e8-4a65-a60b-9f07aac19bc9"
      },
      "outputs": [
        {
          "output_type": "stream",
          "name": "stdout",
          "text": [
            "/content\n"
          ]
        }
      ],
      "source": [
        "import os\n",
        "print(os.getcwd())"
      ]
    },
    {
      "cell_type": "code",
      "source": [
        "import yfinance as yf\n",
        "import datetime\n",
        "\n",
        "# 開始日を設定（今から10年前）\n",
        "start_date = datetime.datetime.now() - datetime.timedelta(days=365 * 10)\n",
        "\n",
        "# 日経平均株価のシンボルは '^N225'\n",
        "nikkei225 = yf.download('^N225', start=start_date)\n",
        "\n",
        "# データの表示\n",
        "print(nikkei225)"
      ],
      "metadata": {
        "colab": {
          "base_uri": "https://localhost:8080/"
        },
        "id": "ygeq0VI1uWeU",
        "outputId": "2da8f24d-48c0-4a15-c410-3636b4cf3db3"
      },
      "execution_count": 2,
      "outputs": [
        {
          "output_type": "stream",
          "name": "stderr",
          "text": [
            "\r[*********************100%%**********************]  1 of 1 completed"
          ]
        },
        {
          "output_type": "stream",
          "name": "stdout",
          "text": [
            "                    Open          High           Low         Close  \\\n",
            "Date                                                                 \n",
            "2014-03-12  15003.799805  15020.139648  14828.179688  14830.389648   \n",
            "2014-03-13  14847.719727  14919.839844  14790.480469  14815.980469   \n",
            "2014-03-14  14526.280273  14539.599609  14280.750000  14327.660156   \n",
            "2014-03-17  14254.320312  14359.160156  14203.209961  14277.669922   \n",
            "2014-03-18  14491.410156  14533.250000  14399.719727  14411.269531   \n",
            "...                  ...           ...           ...           ...   \n",
            "2024-03-04  40201.761719  40314.640625  40001.550781  40109.230469   \n",
            "2024-03-05  39881.730469  40226.988281  39840.339844  40097.628906   \n",
            "2024-03-06  39792.371094  40147.769531  39769.039062  40090.781250   \n",
            "2024-03-07  40331.058594  40472.109375  39518.398438  39598.710938   \n",
            "2024-03-08  39809.558594  39989.328125  39551.601562  39688.941406   \n",
            "\n",
            "               Adj Close     Volume  \n",
            "Date                                 \n",
            "2014-03-12  14830.389648  141300000  \n",
            "2014-03-13  14815.980469  116200000  \n",
            "2014-03-14  14327.660156  236100000  \n",
            "2014-03-17  14277.669922  138000000  \n",
            "2014-03-18  14411.269531  114000000  \n",
            "...                  ...        ...  \n",
            "2024-03-04  40109.230469  119400000  \n",
            "2024-03-05  40097.628906  115200000  \n",
            "2024-03-06  40090.781250  112900000  \n",
            "2024-03-07  39598.710938  137200000  \n",
            "2024-03-08  39688.941406  143300000  \n",
            "\n",
            "[2443 rows x 6 columns]\n"
          ]
        },
        {
          "output_type": "stream",
          "name": "stderr",
          "text": [
            "\n"
          ]
        }
      ]
    }
  ]
}